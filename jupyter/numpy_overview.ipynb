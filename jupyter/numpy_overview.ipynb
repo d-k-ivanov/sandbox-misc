{
 "cells": [
  {
   "cell_type": "code",
   "execution_count": 13,
   "source": [
    "import numpy as np\r\n",
    "\r\n",
    "def pp(obj):\r\n",
    "    print(repr(obj))"
   ],
   "outputs": [],
   "metadata": {}
  },
  {
   "cell_type": "code",
   "execution_count": 18,
   "source": [
    "a = [1, 2, 3]\r\n",
    "b = [4, 5, 6]\r\n",
    "pp(a)\r\n",
    "\r\n",
    "c = np.array([1, 2, 3])\r\n",
    "d = np.array([4, 5, 6])\r\n",
    "pp(c)\r\n",
    "\r\n",
    "pp([q * 2 for q in a])\r\n",
    "pp(c * 2)\r\n",
    "\r\n",
    "pp([q + r for q, r in zip(a, b)])\r\n",
    "pp(c + d)"
   ],
   "outputs": [
    {
     "output_type": "stream",
     "name": "stdout",
     "text": [
      "[1, 2, 3]\n",
      "array([1, 2, 3])\n",
      "[2, 4, 6]\n",
      "array([2, 4, 6])\n",
      "[5, 7, 9]\n",
      "array([5, 7, 9])\n"
     ]
    }
   ],
   "metadata": {}
  }
 ],
 "metadata": {
  "orig_nbformat": 4,
  "language_info": {
   "name": "python",
   "version": "3.9.6",
   "mimetype": "text/x-python",
   "codemirror_mode": {
    "name": "ipython",
    "version": 3
   },
   "pygments_lexer": "ipython3",
   "nbconvert_exporter": "python",
   "file_extension": ".py"
  },
  "kernelspec": {
   "name": "python3",
   "display_name": "Python 3.9.6 64-bit (system)"
  },
  "interpreter": {
   "hash": "d4be04134da666ba417300a0c020abeb8478be2ead96ebfe9eeadc929de095c9"
  }
 },
 "nbformat": 4,
 "nbformat_minor": 2
}