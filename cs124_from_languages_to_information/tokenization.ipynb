{
 "cells": [
  {
   "cell_type": "code",
   "execution_count": null,
   "source": [
    "import re\r\n",
    "\r\n",
    "text_corpus = \"corpuses/low-low-bpe.txt\"\r\n",
    "# text_corpus = \"corpuses/shakespeare.txt\"\r\n",
    "# vocab = set()\r\n",
    "vocab = {}\r\n",
    "with open(file = text_corpus, mode = \"r\", encoding = 'utf-8') as f:\r\n",
    "    for line in f:\r\n",
    "        line = re.sub(r'\\s+', '_', line.strip().lower())\r\n",
    "        # line = re.sub(r'\\s+', '_', line.strip())\r\n",
    "        # print(line)\r\n",
    "        # vocab.update(line)\r\n",
    "        for character in line:\r\n",
    "            if character in vocab:\r\n",
    "                vocab[character] += 1\r\n",
    "            else:\r\n",
    "                vocab[character] = 1\r\n",
    "            # print(character)\r\n",
    "print(vocab)"
   ],
   "outputs": [],
   "metadata": {}
  },
  {
   "cell_type": "code",
   "execution_count": null,
   "source": [
    "class StopExecution(Exception):\r\n",
    "    def _render_traceback_(self):\r\n",
    "        pass\r\n",
    "\r\n",
    "if not 'vocab' in locals():\r\n",
    "    print(\"Vocabulary is not initialized. Please re-run previous section\")\r\n",
    "    raise StopExecution\r\n",
    "\r\n",
    "# {k: v for k, v in sorted(vocab.items(), key=lambda item: item[0], reverse=True)}\r\n",
    "{k: v for k, v in sorted(vocab.items(), key=lambda item: item[1], reverse=True)}\r\n"
   ],
   "outputs": [],
   "metadata": {}
  },
  {
   "cell_type": "code",
   "execution_count": null,
   "source": [
    "import re\r\n",
    "\r\n",
    "text_corpus = \"corpuses/low-low-bpe.txt\"\r\n",
    "corpus = {}\r\n",
    "with open(file = text_corpus, mode = \"r\", encoding = 'utf-8') as f:\r\n",
    "    for line in f:\r\n",
    "        line = re.sub(r'\\s+', '_\\n', line.strip().lower())\r\n",
    "        if line[-1] != '_':\r\n",
    "            line += '_'\r\n",
    "        # print(line.split('\\n'))\r\n",
    "        for word in line.split('\\n'):\r\n",
    "            # print(word)\r\n",
    "            if word in corpus:\r\n",
    "                corpus[word] += 1\r\n",
    "            else:\r\n",
    "                corpus[word] = 1\r\n",
    "# print(corpus)\r\n",
    "{k: v for k, v in sorted(corpus.items(), key=lambda item: item[1], reverse=True)}\r\n"
   ],
   "outputs": [],
   "metadata": {}
  },
  {
   "cell_type": "code",
   "execution_count": null,
   "source": [
    "pairs = {}\r\n",
    "for word, frequency in corpus.items():\r\n",
    "    # print(word)\r\n",
    "    # print(len(word))\r\n",
    "    # count occurrences of pairs\r\n",
    "    for i in range(len(word) - 1):\r\n",
    "        pair = (word[i], word[i + 1])\r\n",
    "        current_frequency = pairs.get(pair, 0)\r\n",
    "        pairs[pair] = current_frequency + frequency\r\n",
    "\r\n",
    "# print(pairs)\r\n",
    "print(set(vocab.keys()))\r\n",
    "{k: v for k, v in sorted(pairs.items(), key=lambda item: item[1], reverse=True)}"
   ],
   "outputs": [],
   "metadata": {}
  },
  {
   "cell_type": "code",
   "execution_count": null,
   "source": [
    "plain_vocab = sorted(list(vocab.keys()))\r\n",
    "last_key = ''\r\n",
    "# for k, v in sorted(pairs.items(), key=lambda item: item[1], reverse=True):\r\n",
    "#     if len(last_key) == 0:\r\n",
    "#         plain_vocab.append(k[0] + k[1])\r\n",
    "#     else:\r\n",
    "#         plain_vocab.append(plain_vocab[-1] + k[1])\r\n",
    "# \r\n",
    "#     last_key = plain_vocab[-1]\r\n",
    "#     print(k[0] + k[1])\r\n",
    "\r\n",
    "print(plain_vocab)"
   ],
   "outputs": [],
   "metadata": {}
  }
 ],
 "metadata": {
  "kernelspec": {
   "name": "python3",
   "display_name": "Python 3.9.6 64-bit (system)"
  },
  "language_info": {
   "codemirror_mode": {
    "name": "ipython",
    "version": 3
   },
   "file_extension": ".py",
   "mimetype": "text/x-python",
   "name": "python",
   "nbconvert_exporter": "python",
   "pygments_lexer": "ipython3",
   "version": "3.9.6"
  },
  "interpreter": {
   "hash": "d4be04134da666ba417300a0c020abeb8478be2ead96ebfe9eeadc929de095c9"
  }
 },
 "nbformat": 4,
 "nbformat_minor": 5
}