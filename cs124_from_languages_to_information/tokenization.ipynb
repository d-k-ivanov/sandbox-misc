{
 "cells": [
  {
   "cell_type": "code",
   "execution_count": 17,
   "source": [
    "import re\r\n",
    "\r\n",
    "text_corpus = \"corpuses/low-low-bpe.txt\"\r\n",
    "# text_corpus = \"corpuses/shakespeare.txt\"\r\n",
    "# vocab = set()\r\n",
    "vocab = {}\r\n",
    "with open(file = text_corpus, mode = \"r\", encoding = 'utf-8') as f:\r\n",
    "    for line in f:\r\n",
    "        line = re.sub(r'\\s+', '_', line.strip().lower())\r\n",
    "        # line = re.sub(r'\\s+', '_', line.strip())\r\n",
    "        # print(line)\r\n",
    "        # vocab.update(line)\r\n",
    "        for character in line:\r\n",
    "            if character in vocab:\r\n",
    "                vocab[character] += 1\r\n",
    "            else:\r\n",
    "                vocab[character] = 1\r\n",
    "            # print(character)\r\n",
    "print(vocab)"
   ],
   "outputs": [
    {
     "output_type": "stream",
     "name": "stdout",
     "text": [
      "{'t': 323747, 'h': 233979, 'e': 435947, '_': 770418, 's': 242844, 'o': 306078, 'n': 238192, 'b': 58967, 'y': 92002, 'w': 88201, 'i': 245079, 'l': 165317, 'a': 284005, 'm': 108615, 'k': 34927, 'p': 55862, 'r': 229871, '1': 224, 'f': 79031, 'c': 83218, 'u': 126744, 'd': 145221, ',': 82413, \"'\": 31067, 'g': 66751, 'v': 36845, ':': 1810, '-': 7841, '.': 77054, '2': 117, 'z': 1626, ';': 17194, 'x': 5000, '3': 82, '?': 10475, '4': 69, 'q': 3577, '5': 73, '6': 56, '7': 34, 'j': 4535, '(': 165, ')': 164, '8': 31, '9': 51, '0': 42, '!': 8827, '[': 2071, ']': 2063, '\"': 450, '&': 21, '<': 28}\n"
     ]
    }
   ],
   "metadata": {}
  },
  {
   "cell_type": "code",
   "execution_count": 21,
   "source": [
    "class StopExecution(Exception):\r\n",
    "    def _render_traceback_(self):\r\n",
    "        pass\r\n",
    "\r\n",
    "if not 'vocab' in locals():\r\n",
    "    print(\"Vocabulary is not initialized. Please re-run previous section\")\r\n",
    "    raise StopExecution\r\n",
    "\r\n",
    "# {k: v for k, v in sorted(vocab.items(), key=lambda item: item[0], reverse=True)}\r\n",
    "{k: v for k, v in sorted(vocab.items(), key=lambda item: item[1], reverse=True)}\r\n",
    "\r\n"
   ],
   "outputs": [
    {
     "output_type": "execute_result",
     "data": {
      "text/plain": [
       "{'_': 770418,\n",
       " 'e': 435947,\n",
       " 't': 323747,\n",
       " 'o': 306078,\n",
       " 'a': 284005,\n",
       " 'i': 245079,\n",
       " 's': 242844,\n",
       " 'n': 238192,\n",
       " 'h': 233979,\n",
       " 'r': 229871,\n",
       " 'l': 165317,\n",
       " 'd': 145221,\n",
       " 'u': 126744,\n",
       " 'm': 108615,\n",
       " 'y': 92002,\n",
       " 'w': 88201,\n",
       " 'c': 83218,\n",
       " ',': 82413,\n",
       " 'f': 79031,\n",
       " '.': 77054,\n",
       " 'g': 66751,\n",
       " 'b': 58967,\n",
       " 'p': 55862,\n",
       " 'v': 36845,\n",
       " 'k': 34927,\n",
       " \"'\": 31067,\n",
       " ';': 17194,\n",
       " '?': 10475,\n",
       " '!': 8827,\n",
       " '-': 7841,\n",
       " 'x': 5000,\n",
       " 'j': 4535,\n",
       " 'q': 3577,\n",
       " '[': 2071,\n",
       " ']': 2063,\n",
       " ':': 1810,\n",
       " 'z': 1626,\n",
       " '\"': 450,\n",
       " '1': 224,\n",
       " '(': 165,\n",
       " ')': 164,\n",
       " '2': 117,\n",
       " '3': 82,\n",
       " '5': 73,\n",
       " '4': 69,\n",
       " '6': 56,\n",
       " '9': 51,\n",
       " '0': 42,\n",
       " '7': 34,\n",
       " '8': 31,\n",
       " '<': 28,\n",
       " '&': 21}"
      ]
     },
     "metadata": {},
     "execution_count": 21
    }
   ],
   "metadata": {}
  }
 ],
 "metadata": {
  "kernelspec": {
   "name": "python3",
   "display_name": "Python 3.9.6 64-bit (system)"
  },
  "language_info": {
   "codemirror_mode": {
    "name": "ipython",
    "version": 3
   },
   "file_extension": ".py",
   "mimetype": "text/x-python",
   "name": "python",
   "nbconvert_exporter": "python",
   "pygments_lexer": "ipython3",
   "version": "3.9.6"
  },
  "interpreter": {
   "hash": "d4be04134da666ba417300a0c020abeb8478be2ead96ebfe9eeadc929de095c9"
  }
 },
 "nbformat": 4,
 "nbformat_minor": 5
}