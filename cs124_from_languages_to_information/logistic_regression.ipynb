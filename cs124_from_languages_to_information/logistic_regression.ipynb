{
 "cells": [
  {
   "cell_type": "code",
   "execution_count": null,
   "source": [],
   "outputs": [],
   "metadata": {}
  },
  {
   "cell_type": "code",
   "execution_count": 11,
   "source": [
    "def dot_product(a_vector, b_vector):\r\n",
    "    # a1 x b1 + a2 * b2..an*bn return scalar\r\n",
    "    return sum([an * bn for an, bn in zip(a_vector,b_vector)])\r\n",
    "\r\n",
    "X = [2.5,-5,-1.2,0.5,2,0.7]\r\n",
    "Y = [3,2,1,3,0,4.19]\r\n",
    "print(round(dot_product(X,Y), 5))\r\n",
    "print(round(dot_product(X,Y), 5) + 0.1)"
   ],
   "outputs": [
    {
     "output_type": "stream",
     "name": "stdout",
     "text": [
      "0.733\n",
      "0.833\n"
     ]
    }
   ],
   "metadata": {}
  },
  {
   "cell_type": "code",
   "execution_count": null,
   "source": [
    "import numpy\r\n",
    "\r\n",
    "# [2.5,-5,-1.2,0.5,2,0.7].[3,2,1,3,0,4.19] + 0.1\r\n",
    "\r\n",
    "\r\n",
    "result = numpy.dot( numpy.array(A)[:,0], B)"
   ],
   "outputs": [],
   "metadata": {}
  }
 ],
 "metadata": {
  "kernelspec": {
   "name": "python3",
   "display_name": "Python 3.9.6 64-bit (system)"
  },
  "language_info": {
   "codemirror_mode": {
    "name": "ipython",
    "version": 3
   },
   "file_extension": ".py",
   "mimetype": "text/x-python",
   "name": "python",
   "nbconvert_exporter": "python",
   "pygments_lexer": "ipython3",
   "version": "3.9.6"
  },
  "interpreter": {
   "hash": "d4be04134da666ba417300a0c020abeb8478be2ead96ebfe9eeadc929de095c9"
  }
 },
 "nbformat": 4,
 "nbformat_minor": 5
}