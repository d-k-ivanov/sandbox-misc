{
 "cells": [
  {
   "cell_type": "code",
   "execution_count": 21,
   "source": [
    "import math\r\n",
    "\r\n",
    "def sigmoid(x):\r\n",
    "  return 1 / (1 + math.exp(-x))"
   ],
   "outputs": [],
   "metadata": {}
  },
  {
   "cell_type": "code",
   "execution_count": 23,
   "source": [
    "def dot_product(a_vector, b_vector):\r\n",
    "    # a1 x b1 + a2 * b2..an*bn return scalar\r\n",
    "    return sum([an * bn for an, bn in zip(a_vector,b_vector)])\r\n",
    "\r\n",
    "X = [2.5,-5,-1.2,0.5,2,0.7]\r\n",
    "Y = [3,2,1,3,0,4.19]\r\n",
    "\r\n",
    "print(round(dot_product(X,Y), 5))\r\n",
    "\r\n",
    "classified_1 = round(dot_product(X,Y), 5) + 0.1\r\n",
    "prob_1 = sigmoid(classified_1)\r\n",
    "print(round(prob_1, 2))"
   ],
   "outputs": [
    {
     "output_type": "stream",
     "name": "stdout",
     "text": [
      "0.733\n",
      "0.7\n"
     ]
    }
   ],
   "metadata": {}
  },
  {
   "cell_type": "code",
   "execution_count": 25,
   "source": [
    "import numpy as np\r\n",
    "\r\n",
    "X = [2.5,-5,-1.2,0.5,2,0.7]\r\n",
    "Y = [3,2,1,3,0,4.19]\r\n",
    "\r\n",
    "result = np.dot(X, Y)\r\n",
    "print(round(result, 5))\r\n",
    "\r\n",
    "classified_2 = round(result, 5) + 0.1\r\n",
    "prob_2 = sigmoid(classified_1)\r\n",
    "print(round(prob_2, 2))"
   ],
   "outputs": [
    {
     "output_type": "stream",
     "name": "stdout",
     "text": [
      "0.733\n",
      "0.7\n"
     ]
    }
   ],
   "metadata": {}
  }
 ],
 "metadata": {
  "kernelspec": {
   "name": "python3",
   "display_name": "Python 3.9.6 64-bit (system)"
  },
  "language_info": {
   "codemirror_mode": {
    "name": "ipython",
    "version": 3
   },
   "file_extension": ".py",
   "mimetype": "text/x-python",
   "name": "python",
   "nbconvert_exporter": "python",
   "pygments_lexer": "ipython3",
   "version": "3.9.6"
  },
  "interpreter": {
   "hash": "d4be04134da666ba417300a0c020abeb8478be2ead96ebfe9eeadc929de095c9"
  }
 },
 "nbformat": 4,
 "nbformat_minor": 5
}